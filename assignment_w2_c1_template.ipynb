{
  "nbformat": 4,
  "nbformat_minor": 5,
  "metadata": {
    "kernelspec": {
      "display_name": "Python 3",
      "language": "python",
      "name": "python3"
    },
    "language_info": {
      "codemirror_mode": {
        "name": "ipython",
        "version": 3
      },
      "file_extension": ".py",
      "mimetype": "text/x-python",
      "name": "python",
      "nbconvert_exporter": "python",
      "pygments_lexer": "ipython3",
      "version": "3.8.8"
    },
    "colab": {
      "name": "assignment_w2_c1_template.ipynb",
      "provenance": []
    }
  },
  "cells": [
    {
      "cell_type": "markdown",
      "metadata": {
        "id": "56a1ca3c-5476-4de7-a816-1a3fb46c22f6"
      },
      "source": [
        "#### Week 2, Assignment C1: \n",
        "### Exploring some Crowdfunding Data with Pandas\n",
        "\n",
        "In this notebook we will aim to explore a few key activities using Pandas\n",
        "\n",
        "Please complete the lines bellow where you see \"# TODO\"\n"
      ],
      "id": "56a1ca3c-5476-4de7-a816-1a3fb46c22f6"
    },
    {
      "cell_type": "code",
      "metadata": {
        "id": "6c026abe-ce51-46ab-bd76-4ef337762478"
      },
      "source": [
        "# Objective 1.\n",
        "#Use this cell to import your packages\n"
      ],
      "id": "6c026abe-ce51-46ab-bd76-4ef337762478",
      "execution_count": null,
      "outputs": []
    },
    {
      "cell_type": "code",
      "metadata": {
        "id": "319c0bf4-b1d2-4c39-8fb2-952b01cead17"
      },
      "source": [
        "# Objective 2.\n",
        "# Complete the following cell using pandas.read_csv() \n",
        "# and the file included in this assignment.\n",
        "# Tip: set index_col to 'created_at' and parse_dates=True\n",
        "\n",
        "df = # TODO\n",
        "\n",
        "assert len(df)>0\n",
        "# if you get an error, try again\n"
      ],
      "id": "319c0bf4-b1d2-4c39-8fb2-952b01cead17",
      "execution_count": null,
      "outputs": []
    },
    {
      "cell_type": "code",
      "metadata": {
        "id": "446a26ab-36b0-41bc-9830-09ad71137568"
      },
      "source": [
        "# Objective 3.\n",
        "# Use this cell to examine the data you've loaded, specifically note the headers and index\n",
        "df"
      ],
      "id": "446a26ab-36b0-41bc-9830-09ad71137568",
      "execution_count": null,
      "outputs": []
    },
    {
      "cell_type": "code",
      "metadata": {
        "id": "42f06b43-9aed-4fd5-8a1d-119b94e42009"
      },
      "source": [
        "# Objective 4.\n",
        "# Create a slice from the years 2018 to 2021\n",
        "\n",
        "df = # TODO\n",
        "df"
      ],
      "id": "42f06b43-9aed-4fd5-8a1d-119b94e42009",
      "execution_count": null,
      "outputs": []
    },
    {
      "cell_type": "code",
      "metadata": {
        "id": "6fc837b2-3e6d-4971-a1a7-3486515b6401"
      },
      "source": [
        "# Objective 5.\n",
        "# slice into the following collumns\n",
        "# 'backers_count','blurb','country','usd_pledged','state'\n",
        "\n",
        "df = # TODO\n",
        "df"
      ],
      "id": "6fc837b2-3e6d-4971-a1a7-3486515b6401",
      "execution_count": null,
      "outputs": []
    },
    {
      "cell_type": "code",
      "metadata": {
        "id": "e3fac3f8-aa6c-4f38-933b-20c45cd131eb"
      },
      "source": [
        "# Objective 6.\n",
        "# Use integer-location based indexing to exclude the last 3 row of data\n",
        "\n",
        "df = # TODO\n",
        "df"
      ],
      "id": "e3fac3f8-aa6c-4f38-933b-20c45cd131eb",
      "execution_count": null,
      "outputs": []
    },
    {
      "cell_type": "code",
      "metadata": {
        "id": "231eb323-8b9c-4fcb-a253-aabb830f3ef9"
      },
      "source": [
        "# Objective 7.\n",
        "# Inside of your slice, count the total number of backers\n",
        "\n",
        "total_backers = # todo\n"
      ],
      "id": "231eb323-8b9c-4fcb-a253-aabb830f3ef9",
      "execution_count": null,
      "outputs": []
    },
    {
      "cell_type": "code",
      "metadata": {
        "id": "a2877599-f5e4-4f38-900f-9a142ff74b00"
      },
      "source": [
        "# Objective 8.\n",
        "# Use a mask to split the DataFrame into two parts and assign each to a variable.\n",
        "# Here we will use state.\n",
        "# Examine the state variable above.\n",
        "# and create one variable for on-going vs concluded projects.\n",
        "\n",
        "ongoing_df = df[df[#todo]==#todo]\n",
        "    \n",
        "concluded_df = df[df[#todo]==#todo]\n"
      ],
      "id": "a2877599-f5e4-4f38-900f-9a142ff74b00",
      "execution_count": null,
      "outputs": []
    },
    {
      "cell_type": "code",
      "metadata": {
        "id": "93e46a02-d0b0-4044-8a1b-510778ef24e6"
      },
      "source": [
        "# Objective 9.\n",
        "# Examine on-going projects\n",
        "ongoing_df"
      ],
      "id": "93e46a02-d0b0-4044-8a1b-510778ef24e6",
      "execution_count": null,
      "outputs": []
    },
    {
      "cell_type": "code",
      "metadata": {
        "id": "48aed013-01b4-4580-af4d-eb801cf83585"
      },
      "source": [
        "# Objective 10.\n",
        "# Examine concluded projects\n",
        "concluded_df"
      ],
      "id": "48aed013-01b4-4580-af4d-eb801cf83585",
      "execution_count": null,
      "outputs": []
    },
    {
      "cell_type": "code",
      "metadata": {
        "id": "07b14983-8b2b-4a1d-bcf7-068bfb1fad89"
      },
      "source": [
        "# Objective 11.\n",
        "# Use the above DataFrames to answer the following\n",
        "\n",
        "# On-going average funding\n",
        "ongoing_avg_funding = #todo, hint, use: ongoing_df\n",
        "\n",
        "# Concluded average funding\n",
        "concluded_avg_funding = #todo, hint, use: concluded_df\n",
        "\n",
        "# On-going total backers\n",
        "ongoing_total_backers = #todo, hint, use: ongoing_df\n",
        "\n",
        "# Concluded total backers\n",
        "concluded_total_backers = #todo, hint, use: concluded_df"
      ],
      "id": "07b14983-8b2b-4a1d-bcf7-068bfb1fad89",
      "execution_count": null,
      "outputs": []
    },
    {
      "cell_type": "code",
      "metadata": {
        "id": "3562c4b5-ddc0-41df-8565-039dd3635cd1"
      },
      "source": [
        "# Objective 12.\n",
        "print(f\"The average funding for live projects: {#todo}\")\n",
        "print(f\"The average funding for successful projects: {#todo}\")\n",
        "\n",
        "print(f\"The total number of backers for live projects: {#todo}\")\n",
        "print(f\"The total number of backers for successful projects: {#todo}\")\n"
      ],
      "id": "3562c4b5-ddc0-41df-8565-039dd3635cd1",
      "execution_count": null,
      "outputs": []
    },
    {
      "cell_type": "code",
      "metadata": {
        "id": "de962aa5-3444-458b-877a-37f6e907b827"
      },
      "source": [
        "# Objective 13.\n",
        "# Using pandas helper methods, plot historgrams for each country.\n",
        "# Do not change the order of these\n",
        "\n",
        "concluded_df[#todo].hist()\n",
        "ongoing_df[#todo].hist()"
      ],
      "id": "de962aa5-3444-458b-877a-37f6e907b827",
      "execution_count": null,
      "outputs": []
    },
    {
      "cell_type": "code",
      "metadata": {
        "id": "03ae1abf-9887-4e42-aaac-8cc7e114192f"
      },
      "source": [
        ""
      ],
      "id": "03ae1abf-9887-4e42-aaac-8cc7e114192f",
      "execution_count": null,
      "outputs": []
    },
    {
      "cell_type": "markdown",
      "metadata": {
        "id": "49f9bc2d-e8fe-43ae-a344-68eafcbad2f9"
      },
      "source": [
        "## Congratulations! You've completed this assignment 🎉"
      ],
      "id": "49f9bc2d-e8fe-43ae-a344-68eafcbad2f9"
    }
  ]
}