{
  "nbformat": 4,
  "nbformat_minor": 5,
  "metadata": {
    "kernelspec": {
      "display_name": "Python 3",
      "language": "python",
      "name": "python3"
    },
    "language_info": {
      "codemirror_mode": {
        "name": "ipython",
        "version": 3
      },
      "file_extension": ".py",
      "mimetype": "text/x-python",
      "name": "python",
      "nbconvert_exporter": "python",
      "pygments_lexer": "ipython3",
      "version": "3.8.8"
    },
    "colab": {
      "name": "OpenLabTemplate_v0_1.ipynb",
      "provenance": []
    }
  },
  "cells": [
    {
      "cell_type": "markdown",
      "metadata": {
        "id": "61999bdd-69ba-4041-97f1-20910d150d7e"
      },
      "source": [
        "## Open Lab CP2:\n",
        "\n",
        "### Modeling performance, returns and risk-adjusted metrics\n",
        "\n",
        "#### Crypto & etfs\n",
        "\n",
        "For the student: complete all #todos"
      ],
      "id": "61999bdd-69ba-4041-97f1-20910d150d7e"
    },
    {
      "cell_type": "code",
      "metadata": {
        "id": "2018834d-d1a1-48c3-98c3-e67d7d8b8bf5"
      },
      "source": [
        "!pip install \"jupyterlab>=3\" \"ipywidgets>=7.6\"\n",
        "!pip install plotly>=5.3.1\n",
        "!pip install cufflinks\n",
        "!pip install chart_studio "
      ],
      "id": "2018834d-d1a1-48c3-98c3-e67d7d8b8bf5",
      "execution_count": null,
      "outputs": []
    },
    {
      "cell_type": "code",
      "metadata": {
        "id": "f7295d3c-348b-478f-85e5-f98065a23eca",
        "outputId": "518c9462-1fe1-4970-e9a8-fd8cda315edc",
        "colab": {
          "base_uri": "https://localhost:8080/",
          "height": 17
        }
      },
      "source": [
        "import pandas\n",
        "import plotly.express as px\n",
        "\n",
        "import os\n",
        "\n",
        "import pandas as pd\n",
        "import cufflinks as cf\n",
        "import plotly.offline\n",
        "import plotly.figure_factory as ff\n",
        "cf.go_offline()\n",
        "\n",
        "# cf.set_config_file(offline=False, world_readable=True)"
      ],
      "id": "f7295d3c-348b-478f-85e5-f98065a23eca",
      "execution_count": 1,
      "outputs": [
        {
          "output_type": "display_data",
          "data": {
            "text/html": [
              "        <script type=\"text/javascript\">\n",
              "        window.PlotlyConfig = {MathJaxConfig: 'local'};\n",
              "        if (window.MathJax) {MathJax.Hub.Config({SVG: {font: \"STIX-Web\"}});}\n",
              "        if (typeof require !== 'undefined') {\n",
              "        require.undef(\"plotly\");\n",
              "        requirejs.config({\n",
              "            paths: {\n",
              "                'plotly': ['https://cdn.plot.ly/plotly-latest.min']\n",
              "            }\n",
              "        });\n",
              "        require(['plotly'], function(Plotly) {\n",
              "            window._Plotly = Plotly;\n",
              "        });\n",
              "        }\n",
              "        </script>\n",
              "        "
            ]
          },
          "metadata": {}
        }
      ]
    },
    {
      "cell_type": "code",
      "metadata": {
        "id": "4cc9c540-e7e0-41fc-92d5-ca2aa7985bfa",
        "outputId": "d3491274-745d-4c9f-fc83-1150e7da7ac5",
        "colab": {
          "base_uri": "https://localhost:8080/",
          "height": 281
        }
      },
      "source": [
        "print(\"ETF data to select from: \\n  \")\n",
        "for fn in os.listdir('data/etf')[1:]:\n",
        "    print(fn,end=\" \")\n",
        "\n",
        "print(\"\\n \\nCrypto data to select from: \\n  \")\n",
        "for fn in os.listdir('data/crypto/')[1:]:\n",
        "    print(fn,end=\" \")"
      ],
      "id": "4cc9c540-e7e0-41fc-92d5-ca2aa7985bfa",
      "execution_count": 2,
      "outputs": [
        {
          "output_type": "stream",
          "name": "stdout",
          "text": [
            "ETF data to select from: \n",
            "  \n"
          ]
        },
        {
          "output_type": "error",
          "ename": "FileNotFoundError",
          "evalue": "ignored",
          "traceback": [
            "\u001b[0;31m---------------------------------------------------------------------------\u001b[0m",
            "\u001b[0;31mFileNotFoundError\u001b[0m                         Traceback (most recent call last)",
            "\u001b[0;32m<ipython-input-2-a2503ef9205e>\u001b[0m in \u001b[0;36m<module>\u001b[0;34m()\u001b[0m\n\u001b[1;32m      1\u001b[0m \u001b[0mprint\u001b[0m\u001b[0;34m(\u001b[0m\u001b[0;34m\"ETF data to select from: \\n  \"\u001b[0m\u001b[0;34m)\u001b[0m\u001b[0;34m\u001b[0m\u001b[0;34m\u001b[0m\u001b[0m\n\u001b[0;32m----> 2\u001b[0;31m \u001b[0;32mfor\u001b[0m \u001b[0mfn\u001b[0m \u001b[0;32min\u001b[0m \u001b[0mos\u001b[0m\u001b[0;34m.\u001b[0m\u001b[0mlistdir\u001b[0m\u001b[0;34m(\u001b[0m\u001b[0;34m'data/etf'\u001b[0m\u001b[0;34m)\u001b[0m\u001b[0;34m[\u001b[0m\u001b[0;36m1\u001b[0m\u001b[0;34m:\u001b[0m\u001b[0;34m]\u001b[0m\u001b[0;34m:\u001b[0m\u001b[0;34m\u001b[0m\u001b[0;34m\u001b[0m\u001b[0m\n\u001b[0m\u001b[1;32m      3\u001b[0m     \u001b[0mprint\u001b[0m\u001b[0;34m(\u001b[0m\u001b[0mfn\u001b[0m\u001b[0;34m,\u001b[0m\u001b[0mend\u001b[0m\u001b[0;34m=\u001b[0m\u001b[0;34m\" \"\u001b[0m\u001b[0;34m)\u001b[0m\u001b[0;34m\u001b[0m\u001b[0;34m\u001b[0m\u001b[0m\n\u001b[1;32m      4\u001b[0m \u001b[0;34m\u001b[0m\u001b[0m\n\u001b[1;32m      5\u001b[0m \u001b[0mprint\u001b[0m\u001b[0;34m(\u001b[0m\u001b[0;34m\"\\n \\nCrypto data to select from: \\n  \"\u001b[0m\u001b[0;34m)\u001b[0m\u001b[0;34m\u001b[0m\u001b[0;34m\u001b[0m\u001b[0m\n",
            "\u001b[0;31mFileNotFoundError\u001b[0m: [Errno 2] No such file or directory: 'data/etf'"
          ]
        }
      ]
    },
    {
      "cell_type": "markdown",
      "metadata": {
        "tags": [],
        "id": "e3f057ba-0870-4fba-a2d3-88c425d06e58"
      },
      "source": [
        "### Objective one: Load a data set\n",
        "\n",
        "\n",
        "#### (Optional - very advanced), use _\"requests\"_ to load a dataset from an API of your choice"
      ],
      "id": "e3f057ba-0870-4fba-a2d3-88c425d06e58"
    },
    {
      "cell_type": "code",
      "metadata": {
        "id": "6d2d328e-648d-4f01-b89d-8523d0454712"
      },
      "source": [
        "#Objective 1: \n",
        "# Set the symbol\n",
        "symbol=\"#todo\".upper()\n",
        "# is it crypto?\n",
        "is_crypto = #todo\n",
        "\n",
        "if is_crypto:\n",
        "    data_dir = 'crypto'\n",
        "else:\n",
        "    data_dir = 'etf'\n",
        "\n",
        "#Complete the parse_dates param to parse the timestamp index.\n",
        "ohlcv_df = pandas.read_csv(filepath_or_buffer=f\"data/{data_dir}/{symbol}.csv\", parse_dates=#todo, index_col='timestamp')"
      ],
      "id": "6d2d328e-648d-4f01-b89d-8523d0454712",
      "execution_count": null,
      "outputs": []
    },
    {
      "cell_type": "code",
      "metadata": {
        "id": "6e9d77c5-4163-43bd-a36d-9d7038246b9e"
      },
      "source": [
        "#Objective 2:\n",
        "# Observe and visually examine the OHLCV Data, making note of the index and collumns.\n",
        "ohlcv_df"
      ],
      "id": "6e9d77c5-4163-43bd-a36d-9d7038246b9e",
      "execution_count": null,
      "outputs": []
    },
    {
      "cell_type": "code",
      "metadata": {
        "id": "0dbea07d-d2c8-4a51-acc1-fa29af7e9ec4"
      },
      "source": [
        "#objective 3:\n",
        "# use pandas.sort_index() to ensure data is sorted\n",
        "\n",
        "ohlcv_df = ohlcv_df.#todo()\n",
        "ohlcv_df"
      ],
      "id": "0dbea07d-d2c8-4a51-acc1-fa29af7e9ec4",
      "execution_count": null,
      "outputs": []
    },
    {
      "cell_type": "code",
      "metadata": {
        "id": "3662e3dc-7f21-4dfe-bb5e-15c320a2baaf"
      },
      "source": [
        "# objective 4:\n",
        "# Select the last full year of data, eg: if it ends mid 2021, select 2019 to 2020.\n",
        "\n",
        "ohlcv_df = ohlcv_df.loc[#todo:#todo]\n",
        "ohlcv_df"
      ],
      "id": "3662e3dc-7f21-4dfe-bb5e-15c320a2baaf",
      "execution_count": null,
      "outputs": []
    },
    {
      "cell_type": "code",
      "metadata": {
        "id": "f6a51315-f044-4481-9a3f-e5e09156ad64"
      },
      "source": [
        "# objective 5:\n",
        "# create a copy of the data frame using df.copy() to make a working copy to modify.\n",
        "# Calculate the returns by taking the difference of each open or adjusted open.\n",
        "\n",
        "working_df = ohlcv_df.#todo()\n",
        "working_df['returns'] = working_df #todo\n"
      ],
      "id": "f6a51315-f044-4481-9a3f-e5e09156ad64",
      "execution_count": null,
      "outputs": []
    },
    {
      "cell_type": "code",
      "metadata": {
        "id": "0ca3c440-a2a9-4801-8fe5-13ff7a165d34"
      },
      "source": [
        "# Objective 6:\n",
        "# Visually inspect to make sure returns are correct.\n",
        "working_df"
      ],
      "id": "0ca3c440-a2a9-4801-8fe5-13ff7a165d34",
      "execution_count": null,
      "outputs": []
    },
    {
      "cell_type": "code",
      "metadata": {
        "id": "6b1dceb5-1d5b-4d76-915d-70710505cfb4"
      },
      "source": [
        "#Object 7:\n",
        "# Using .dropna() drop the missing data\n",
        "\n",
        "working_df = working_df.#todo()\n",
        "working_df"
      ],
      "id": "6b1dceb5-1d5b-4d76-915d-70710505cfb4",
      "execution_count": null,
      "outputs": []
    },
    {
      "cell_type": "code",
      "metadata": {
        "id": "14eac8a8-0f84-4008-ba7a-691c05c39c75"
      },
      "source": [
        "# Objective 8:\n",
        "# Using PyViz, plotly, and cufflinks. Plot the \"open\" price for your instrument. \n",
        "\n",
        "#complete the todo\n",
        "working_df['#todo'].iplot(title=f\"{symbol}\",xTitle='Date',yTitle='Price ($)')"
      ],
      "id": "14eac8a8-0f84-4008-ba7a-691c05c39c75",
      "execution_count": null,
      "outputs": []
    },
    {
      "cell_type": "code",
      "metadata": {
        "id": "f843ea8c-c922-4094-b1d3-de37759eb09a"
      },
      "source": [
        "# Objective 9:\n",
        "# Use PyViz and .iplot() to plot your \"returns\" over time:\n",
        "# \n",
        "#complete the todo\n",
        "working_df[['#todo']].iplot(title=f\"{symbol}\",xTitle='Date',yTitle='Returns (profit) per day')"
      ],
      "id": "f843ea8c-c922-4094-b1d3-de37759eb09a",
      "execution_count": null,
      "outputs": []
    },
    {
      "cell_type": "code",
      "metadata": {
        "id": "58181e18-e379-4e30-b7f2-59d51ec8cce9"
      },
      "source": [
        "#objective 10:\n",
        "# using pyvis, cufflinks and iplot, make a histogram to visualize your return distribution\n",
        "working_df[['#todo']].iplot(kind='hist',bins=100,title='#todo Distribution',xTitle='Returns %',yTitle='count')"
      ],
      "id": "58181e18-e379-4e30-b7f2-59d51ec8cce9",
      "execution_count": null,
      "outputs": []
    },
    {
      "cell_type": "code",
      "metadata": {
        "id": "745de4fb-69ad-4454-93a8-4318232e904a"
      },
      "source": [
        "#objective 10:\n",
        "# using pyvis, cufflinks and iplot, make a distribution plot to visualize your return distribution\n",
        "\n",
        "ff.create_distplot([working_df['#todo'].values.ravel()],group_labels=['returns'])"
      ],
      "id": "745de4fb-69ad-4454-93a8-4318232e904a",
      "execution_count": null,
      "outputs": []
    },
    {
      "cell_type": "code",
      "metadata": {
        "id": "c1e5f92a-9ee3-46b5-a94a-976bbb5fcabc"
      },
      "source": [
        "#objective 11:\n",
        "# calculate the IR\n",
        "\n",
        "IR = working_df[['#todo']].mean()/working_df[['#todo']].std()\n",
        "\n"
      ],
      "id": "c1e5f92a-9ee3-46b5-a94a-976bbb5fcabc",
      "execution_count": null,
      "outputs": []
    },
    {
      "cell_type": "code",
      "metadata": {
        "id": "f9e291a1-1830-4bbc-9951-4a934fdc9249"
      },
      "source": [
        "#objective 12:\n",
        "# calculate the AR\n",
        "\n",
        "AR = (working_df[['#todo']].iloc[#todo] - working_df[['#todo']].iloc[#todo]) / working_df[['#todo']].iloc[#todo])  \n"
      ],
      "id": "f9e291a1-1830-4bbc-9951-4a934fdc9249",
      "execution_count": null,
      "outputs": []
    },
    {
      "cell_type": "code",
      "metadata": {
        "id": "b9cbb798-1eb0-4d65-89ac-4fe9b612d42a"
      },
      "source": [
        "# calculate the CAGR\n",
        "CAGR = #todo"
      ],
      "id": "b9cbb798-1eb0-4d65-89ac-4fe9b612d42a",
      "execution_count": null,
      "outputs": []
    }
  ]
}